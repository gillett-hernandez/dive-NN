{
  "nbformat": 4,
  "nbformat_minor": 0,
  "metadata": {
    "colab": {
      "name": "another-attempt.ipynb",
      "version": "0.3.2",
      "provenance": [],
      "collapsed_sections": [],
      "include_colab_link": true
    },
    "kernelspec": {
      "name": "python3",
      "display_name": "Python 3"
    }
  },
  "cells": [
    {
      "cell_type": "markdown",
      "metadata": {
        "id": "view-in-github",
        "colab_type": "text"
      },
      "source": [
        "<a href=\"https://colab.research.google.com/github/gillett-hernandez/dive-NN/blob/TF/another_attempt.ipynb\" target=\"_parent\"><img src=\"https://colab.research.google.com/assets/colab-badge.svg\" alt=\"Open In Colab\"/></a>"
      ]
    },
    {
      "cell_type": "code",
      "metadata": {
        "id": "OElk6Kkc54Fw",
        "colab_type": "code",
        "colab": {}
      },
      "source": [
        "\n",
        "class Namespace(dict):\n",
        "    \"\"\"Namespace. subclass of ``dict``. allows access of keys using dot syntax.\n",
        "\n",
        ":Example:\n",
        "\n",
        ">>> ns = Namespace({})\n",
        ">>> ns.stuff = 1\n",
        ">>> ns.stuff2 = 2\n",
        ">>> print(ns.stuff * ns.stuff2)\n",
        "2\n",
        ">>> print(ns.stuff * ns[\"stuff2\"])\n",
        "2\n",
        ">>> existing_nested_dictionary = {\"foo\": {\"bar\": \"baz\", \"spam\": [\"eggs1\", \"eggs2\"]}, \"etc\": {}}\n",
        ">>> ns_from_dict = Namespace.transform(existing_nested_dictionary)\n",
        ">>> ns_from_dict.foo\n",
        "Namespace({\"bar\": \"baz\", \"spam\":[\"eggs1\", \"eggs2\"]})\n",
        ">>> ns_from_dict.etc\n",
        "Namespace({})\n",
        ">>> assert ns_from_dict.foo.bar == \"baz\"\n",
        ">>> assert ns_from_dict.get(\"lol\", False) is False\n",
        "\"\"\"\n",
        "\n",
        "    def __getattr__(self, key):\n",
        "        try:\n",
        "            return super().__getitem__(key)\n",
        "        except AttributeError:\n",
        "            print(key)\n",
        "            raise\n",
        "        except KeyError:\n",
        "            print(key)\n",
        "            raise AttributeError(f\"couldn't find key {key}\")\n",
        "\n",
        "    def __setattr__(self, key, value):\n",
        "        super().__setitem__(key, value)\n",
        "\n",
        "    @classmethod\n",
        "    def transform(cls, blob):\n",
        "        if isinstance(blob, dict):\n",
        "            blob = blob.copy()\n",
        "            for k, v in blob.items():\n",
        "                blob[k] = cls.transform(blob[k])\n",
        "            return cls(blob)\n",
        "        elif isinstance(blob, list):\n",
        "            return [cls.transform(e) for e in blob]\n",
        "        else:\n",
        "            return blob\n",
        "\n",
        "    def __repr__(self):\n",
        "        return \"Namespace(\" + str({key: value for key, value in self.items()}) + \")\"\n"
      ],
      "execution_count": 0,
      "outputs": []
    },
    {
      "cell_type": "code",
      "metadata": {
        "id": "Ha1uNmzS5v8A",
        "colab_type": "code",
        "colab": {}
      },
      "source": [
        "#!/usr/bin/env python3\n",
        "import argparse\n",
        "import numpy as np\n",
        "from random import uniform as random\n",
        "import random as rand\n",
        "from math import pi as PI\n",
        "from math import cos, sin, atan2, atan, tanh, fmod, exp, isclose\n",
        "import json\n",
        "from itertools import takewhile\n",
        "import time\n",
        "import tensorflow as tf\n",
        "mag = lambda a, b: tf.math.sqrt(a**2 + b**2)\n",
        "\n",
        "\n",
        "should_write_training_data = False\n",
        "should_read_training_data = False\n",
        "BATCHES = 100\n",
        "N_PLAYERS = 128\n",
        "debug = False\n",
        "\n",
        "ORDER = \"C\"\n",
        "\n",
        "\n",
        "HALF_PI = PI / 2\n",
        "TAU = PI * 2\n",
        "\n",
        "g = 9.80665\n",
        "drag_flat = 0.07\n",
        "drag_narrow = 0.038\n",
        "mass = 100\n",
        "influence = 900\n",
        "\n",
        "MUTATION_EFFECT = 0.20\n",
        "MUTATION_CHANCE = 0.20\n",
        "timedelta = 0.1\n",
        "\n",
        "N_PARAMS = 11\n",
        "TTL = 1000\n",
        "OFFSET = (100, 100)\n",
        "RANDOM_LOWER_BOUND = 15000\n",
        "RANDOM_UPPER_BOUND = 15000\n",
        "PARAM_LOWER_BOUND = -1\n",
        "PARAM_UPPER_BOUND = 1\n",
        "RANDOM_INITIAL = 15000\n",
        "FITNESS_HYPERPARAMETER_WIDTH=10000\n",
        "FITNESS_HYPERPARAMETER_HEIGHT=30000\n",
        "\n",
        "\n"
      ],
      "execution_count": 0,
      "outputs": []
    },
    {
      "cell_type": "code",
      "metadata": {
        "id": "QIfv-5i_701h",
        "colab_type": "code",
        "colab": {}
      },
      "source": [
        "# sess = tf.Session()"
      ],
      "execution_count": 0,
      "outputs": []
    },
    {
      "cell_type": "code",
      "metadata": {
        "id": "_0K5-h3D648G",
        "colab_type": "code",
        "outputId": "4e839035-61d9-4aee-a956-1143be04cf4e",
        "colab": {
          "base_uri": "https://localhost:8080/",
          "height": 35
        }
      },
      "source": [
        "\n",
        "# constant = tf.constant([1, 2, 3])\n",
        "# tensor = constant * constant\n",
        "# print(tensor.eval(session=sess))"
      ],
      "execution_count": 0,
      "outputs": [
        {
          "output_type": "stream",
          "text": [
            "[1 4 9]\n"
          ],
          "name": "stdout"
        }
      ]
    },
    {
      "cell_type": "code",
      "metadata": {
        "id": "NZ0ItMD37c-x",
        "colab_type": "code",
        "outputId": "fa4198f5-8d29-45b8-a2f6-79d48b62667e",
        "colab": {
          "base_uri": "https://localhost:8080/",
          "height": 53
        }
      },
      "source": [
        "# # with sess.as_default():\n",
        "# a = tf.constant([0,1,2,3,1,0.5, 0.707106779], dtype=tf.dtypes.float32)\n",
        "# b = tf.constant([5,4,1,2,1,0.5, 0.707106779], dtype=tf.dtypes.float32)\n",
        "# print(mag(a,b).eval(session=sess))"
      ],
      "execution_count": 0,
      "outputs": [
        {
          "output_type": "stream",
          "text": [
            "[5.         4.1231055  2.236068   3.6055512  1.4142135  0.70710677\n",
            " 0.99999994]\n"
          ],
          "name": "stdout"
        }
      ]
    },
    {
      "cell_type": "code",
      "metadata": {
        "id": "YjSWDcxr6AxB",
        "colab_type": "code",
        "colab": {}
      },
      "source": [
        "\n",
        "\n",
        "BRAIN = None\n",
        "def construct_brain():\n",
        "    global BRAIN\n",
        "    if BRAIN is None:\n",
        "        BRAIN = tf.keras.Sequential([tf.keras.layers.Dense(1, input_shape=(10,))])\n",
        "#     return tf.constant([random(PARAM_LOWER_BOUND, PARAM_UPPER_BOUND) for _ in range(N_PARAMS)], dtype=tf.dtypes.float32)\n",
        "    return BRAIN\n",
        "\n",
        "\n",
        "\n",
        "def pmag(players):\n",
        "    return mag(players[2], players[3])\n",
        "\n",
        "\n",
        "def lift_force(players):\n",
        "    # angle = (self.theta - self.direction) % TAU\n",
        "\n",
        "    y = 0.7 * 1.225 * 0.75 / (2*mass)\n",
        "    # normal lift\n",
        "    _AoA = AoA(players)\n",
        "    _tan = tangent(players)\n",
        "    mul = 50*y * pmag(players)**2 * tf.cos(_AoA) * tf.sin(_AoA)\n",
        "    return [mul*tf.cos(_tan), mul*tf.sin(_tan)]\n",
        "\n",
        "\n",
        "def simulate_and_update(players, brain):\n",
        "    L = lift_force(players)\n",
        "    _mag = mag(players[2], players[3])\n",
        "    f = drag_narrow\n",
        "    l2 = players[2] + (L[0] - f * _mag * players[2])/mass\n",
        "    l3 = players[3] + (L[1] - g * mass - f * _mag * players[3])/mass\n",
        "    l0 = players[0] + players[2] * timedelta\n",
        "    l1 = players[1] - players[3] * timedelta\n",
        "    l7 = players[7] + timedelta\n",
        "    l4 = brain.predict_on_batch(tf.transpose(batch_remap(players)))\n",
        "    return tf.stack([l0, l1, l2, l3, l4[:,0], players[5], players[6], l7, players[8], players[9]])\n",
        "\n",
        "def update(players, brain):\n",
        "    l4 = brain.predict_on_batch(tf.transpose(batch_remap(players)))\n",
        "    return tf.stack([players[0], players[1], players[2], players[3], l4[:,0], players[5], players[6], players[7], players[8], players[9]])\n",
        "\n",
        "def construct_player(target=(15000,10000), x=0., y=0., vx=0. ,vy=0., theta=0., time=0., fitness=0.):\n",
        "    return tf.constant([\n",
        "        x, # x\n",
        "        y, # y\n",
        "        vx, # vx\n",
        "        vy, # vy\n",
        "        theta, # theta\n",
        "        target[0], # target x\n",
        "        target[1], # target y\n",
        "        time, # time\n",
        "        True, # alive\n",
        "        fitness # fitness\n",
        "    ], dtype=np.float32)\n",
        "\n",
        "\n",
        "def reset(DEST):\n",
        "    return construct_players(DEST)\n",
        "\n",
        "def construct_players(DEST):\n",
        "#     players = []\n",
        "#     for i in range(N_PLAYERS):\n",
        "#         players.append(construct_player())\n",
        "#     return tf.transpose(tf.stack(players))\n",
        "    return tf.transpose(tf.reshape(tf.tile(construct_player(DEST), [N_PLAYERS]), (N_PLAYERS, N_PARAMS-1)))\n",
        "\n",
        "def construct_players_and_brain(DEST, filename=None):\n",
        "    players = construct_players(DEST)\n",
        "    print(players.shape)\n",
        "    \n",
        "    brain = construct_brain()\n",
        "    \n",
        "#     for i in range(N_PLAYERS):\n",
        "#         brains.append(construct_brain())\n",
        "#     tf.transpose(tf.stack(brains))\n",
        "    return players, brain\n",
        "\n",
        "def transform_pos(x=0, y=0):\n",
        "    \"\"\"returns the screen coordinates to draw pos\"\"\"\n",
        "    return vadd(OFFSET, (int(x / scale), int(y / scale)))\n",
        "\n",
        "\n",
        "def reverse_transform_position(x, y):\n",
        "    \"\"\"returns the approximate real coordinates that correspond to screen coordinates\"\"\"\n",
        "    return vsub([e*scale for e in [x,y]], OFFSET)\n"
      ],
      "execution_count": 0,
      "outputs": []
    },
    {
      "cell_type": "code",
      "metadata": {
        "id": "tQoa8liWUjOV",
        "colab_type": "code",
        "outputId": "dd2ab7ae-53b5-4383-d8b2-33e5939dfbad",
        "colab": {
          "base_uri": "https://localhost:8080/",
          "height": 53
        }
      },
      "source": [
        "test_players, brain = construct_players_and_brain((15000,10000))\n",
        "print(test_players.shape)"
      ],
      "execution_count": 0,
      "outputs": [
        {
          "output_type": "stream",
          "text": [
            "(10, 128)\n",
            "(10, 128)\n"
          ],
          "name": "stdout"
        }
      ]
    },
    {
      "cell_type": "code",
      "metadata": {
        "id": "fdieFMUh6BSp",
        "colab_type": "code",
        "outputId": "50266ebd-f6a7-496e-f926-9f187c5daa57",
        "colab": {
          "base_uri": "https://localhost:8080/",
          "height": 53
        }
      },
      "source": [
        "trues = tf.tile([True], [N_PLAYERS])\n",
        "falses = tf.tile([False], [N_PLAYERS])\n",
        "\n",
        "print(trues, falses)\n",
        "\n",
        "def out_of_bounds(players):\n",
        "    a = tf.where(players[0] < -100, trues, falses)\n",
        "    b = tf.where(players[1] > players[6], trues, falses)\n",
        "    return tf.logical_or(a, b)\n",
        "\n",
        "out_of_bounds(test_players)"
      ],
      "execution_count": 0,
      "outputs": [
        {
          "output_type": "stream",
          "text": [
            "Tensor(\"Tile_103:0\", shape=(128,), dtype=bool) Tensor(\"Tile_104:0\", shape=(128,), dtype=bool)\n"
          ],
          "name": "stdout"
        },
        {
          "output_type": "execute_result",
          "data": {
            "text/plain": [
              "<tf.Tensor 'LogicalOr_348:0' shape=(128,) dtype=bool>"
            ]
          },
          "metadata": {
            "tags": []
          },
          "execution_count": 77
        }
      ]
    },
    {
      "cell_type": "code",
      "metadata": {
        "id": "Z2FYpk7A6C8M",
        "colab_type": "code",
        "colab": {}
      },
      "source": [
        "zeroes = tf.tile([0.0], [N_PLAYERS])\n",
        "PI_AND_A_HALF = tf.tile([PI+HALF_PI], [N_PLAYERS])\n",
        "tensor_PI = tf.tile([PI], [N_PLAYERS])\n",
        "tensor_HALF_PI = tf.tile([PI], [N_PLAYERS])\n",
        "\n",
        "def direction(players):\n",
        "    a = tf.atan2(players[3], players[2])\n",
        "\n",
        "    b = tf.where(players[2] != 0, zeroes, PI_AND_A_HALF)\n",
        "\n",
        "    return a + b\n",
        "\n",
        "def AoA(players):\n",
        "    # return atan2(player[3], player[2])\n",
        "    return tf.floormod(direction(players) - players[4], TAU)\n",
        "\n",
        "def tangent(players):\n",
        "  \n",
        "    return tf.floormod(\n",
        "        tf.where(players[3] != 0,\n",
        "                 tf.atan2(-players[2],players[3]) + tf.where(players[3] > 0, tensor_PI, zeroes),\n",
        "                 tensor_HALF_PI),\n",
        "        TAU)\n",
        "\n",
        "\n",
        "def batch_remap(variables):\n",
        "    out = []\n",
        "    out.append(variables[0])\n",
        "    \n",
        "    out.append(variables[1])\n",
        "    \n",
        "    out.append(pmag(variables))\n",
        "    \n",
        "    out.append(direction(variables))\n",
        "    \n",
        "    out.append(variables[4])\n",
        "    \n",
        "    out.append(mag(variables[ 5] - variables[ 0], variables[ 6] - variables[ 1]))\n",
        "    \n",
        "    out.append(tf.atan2(variables[5] - variables[ 0], variables[ 6] - variables[ 1]))\n",
        "    \n",
        "    out.append(variables[5] - variables[0])\n",
        "    \n",
        "    out.append(variables[6] - variables[1])\n",
        "    \n",
        "    out.append(variables[7])\n",
        "    \n",
        "    return tf.stack(out)\n",
        "\n",
        "# print(batch_remap(players))\n",
        "\n"
      ],
      "execution_count": 0,
      "outputs": []
    },
    {
      "cell_type": "code",
      "metadata": {
        "id": "kUcEvl766EBr",
        "colab_type": "code",
        "outputId": "6449cda8-5a2b-4566-ce62-54181c8db30d",
        "colab": {
          "base_uri": "https://localhost:8080/",
          "height": 962
        }
      },
      "source": [
        "\n",
        "ones = tf.fill([N_PLAYERS], 1.0)\n",
        "def player_fitness_formula(players):\n",
        "    return fitness_formula(players[ 0], players[ 1], players[5], players[ 6], players[ 7])\n",
        "\n",
        "def fitness_formula(x, y, tx, ty, time):\n",
        "    return FITNESS_HYPERPARAMETER_HEIGHT * tf.exp(-(mag(tx-x, ty-y) / FITNESS_HYPERPARAMETER_WIDTH) ** 2) - 2*time\n",
        "\n",
        "# assert fitness_formula(0.0,0.0,0.0,0.0,0.0) == 30000\n",
        "\n",
        "def update_death_and_fitness(players):\n",
        "    dead = tf.logical_or(out_of_bounds(players), players[7] > TTL)\n",
        "#     players[ -2] = tf.where(dead, zeroes, ones)\n",
        "#     players[ -1] = tf.where(dead, player_fitness_formula(players), zeroes)\n",
        "    p_2 =  tf.where(dead, zeroes, ones)\n",
        "    p_1 = tf.where(dead, player_fitness_formula(players), zeroes)\n",
        "    return tf.stack([players[0], players[1], players[2], players[3], players[4], players[5], players[5], players[6], p_2, p_1])\n",
        "\n",
        "\n",
        "def main(read_file=\"savedata.json\", write_file = \"savedata.json\"):\n",
        "\n",
        "\n",
        "\n",
        "    sess = tf.Session()\n",
        "    FLOOR = 10000\n",
        "    DEST = RANDOM_INITIAL, FLOOR\n",
        "\n",
        "\n",
        "    players, brain = construct_players_and_brain(DEST, read_file)\n",
        "    update(players, brain)\n",
        "\n",
        "    best_fitness = float(\"inf\")\n",
        "    with sess.as_default():\n",
        "        with tf.GradientTape() as grad:\n",
        "            for i in range(BATCHES):\n",
        "                print(f\"starting batch {i} of {BATCHES}\")\n",
        "                t1 = time.perf_counter()\n",
        "                frame = 0\n",
        "                halted = False\n",
        "\n",
        "\n",
        "\n",
        "                alive_players_count = N_PLAYERS\n",
        "                while not halted:\n",
        "                    if frame % 10 == 0:\n",
        "                        print(\".\", end='')\n",
        "                    if frame % 100:\n",
        "                        print(alive_players_count)\n",
        "                    players = simulate_and_update(players, brain)\n",
        "                    players = update_death_and_fitness(players)\n",
        "                    alive_players_count = tf.count_nonzero(players[-2])\n",
        "                    if alive_players_count == 0:\n",
        "                        halted = True\n",
        "\n",
        "\n",
        "                    frame += 1\n",
        "                t2 = time.perf_counter()\n",
        "                best_fitness = max(*[e[-1] for e in players])\n",
        "                new_target = random(RANDOM_LOWER_BOUND, RANDOM_UPPER_BOUND), FLOOR\n",
        "                print(f\"batch {i} of {BATCHES} = {round(100*i/BATCHES,2)}% done\")\n",
        "                print(f\"best fitness was {best_fitness}\")\n",
        "                players[5] = new_target[0]\n",
        "                players[6] = new_target[1]\n",
        "                print(\"time for batch: {}\".format(t2-t1))\n",
        "                brains = selection_crossover_and_breeding(players[-1], brains).T\n",
        "                # assert len(set(id(e) for e in brains)) == len(brains)\n",
        "        #         players = players[:len(brains)]\n",
        "                reset(DEST)\n",
        "                DEST = new_target\n",
        "                t3 = time.perf_counter()\n",
        "                print(\"time for resetting: {}\".format(t3-t2))\n",
        "                print(\"\\n\")\n",
        "\n",
        "\n",
        "\n",
        "main()"
      ],
      "execution_count": 0,
      "outputs": [
        {
          "output_type": "stream",
          "text": [
            "(10, 128)\n",
            "starting batch 0 of 100\n",
            "."
          ],
          "name": "stdout"
        },
        {
          "output_type": "error",
          "ename": "FailedPreconditionError",
          "evalue": "ignored",
          "traceback": [
            "\u001b[0;31m---------------------------------------------------------------------------\u001b[0m",
            "\u001b[0;31mFailedPreconditionError\u001b[0m                   Traceback (most recent call last)",
            "\u001b[0;32m<ipython-input-81-64a4c26abccf>\u001b[0m in \u001b[0;36m<module>\u001b[0;34m()\u001b[0m\n\u001b[1;32m     74\u001b[0m \u001b[0;34m\u001b[0m\u001b[0m\n\u001b[1;32m     75\u001b[0m \u001b[0;34m\u001b[0m\u001b[0m\n\u001b[0;32m---> 76\u001b[0;31m \u001b[0mmain\u001b[0m\u001b[0;34m(\u001b[0m\u001b[0;34m)\u001b[0m\u001b[0;34m\u001b[0m\u001b[0;34m\u001b[0m\u001b[0m\n\u001b[0m",
            "\u001b[0;32m<ipython-input-81-64a4c26abccf>\u001b[0m in \u001b[0;36mmain\u001b[0;34m(read_file, write_file)\u001b[0m\n\u001b[1;32m     47\u001b[0m                     \u001b[0;32mif\u001b[0m \u001b[0mframe\u001b[0m \u001b[0;34m%\u001b[0m \u001b[0;36m100\u001b[0m\u001b[0;34m:\u001b[0m\u001b[0;34m\u001b[0m\u001b[0;34m\u001b[0m\u001b[0m\n\u001b[1;32m     48\u001b[0m                         \u001b[0mprint\u001b[0m\u001b[0;34m(\u001b[0m\u001b[0malive_players_count\u001b[0m\u001b[0;34m)\u001b[0m\u001b[0;34m\u001b[0m\u001b[0;34m\u001b[0m\u001b[0m\n\u001b[0;32m---> 49\u001b[0;31m                     \u001b[0mplayers\u001b[0m \u001b[0;34m=\u001b[0m \u001b[0msimulate_and_update\u001b[0m\u001b[0;34m(\u001b[0m\u001b[0mplayers\u001b[0m\u001b[0;34m,\u001b[0m \u001b[0mbrain\u001b[0m\u001b[0;34m)\u001b[0m\u001b[0;34m\u001b[0m\u001b[0;34m\u001b[0m\u001b[0m\n\u001b[0m\u001b[1;32m     50\u001b[0m                     \u001b[0mplayers\u001b[0m \u001b[0;34m=\u001b[0m \u001b[0mupdate_death_and_fitness\u001b[0m\u001b[0;34m(\u001b[0m\u001b[0mplayers\u001b[0m\u001b[0;34m)\u001b[0m\u001b[0;34m\u001b[0m\u001b[0;34m\u001b[0m\u001b[0m\n\u001b[1;32m     51\u001b[0m                     \u001b[0malive_players_count\u001b[0m \u001b[0;34m=\u001b[0m \u001b[0mtf\u001b[0m\u001b[0;34m.\u001b[0m\u001b[0mcount_nonzero\u001b[0m\u001b[0;34m(\u001b[0m\u001b[0mplayers\u001b[0m\u001b[0;34m[\u001b[0m\u001b[0;34m-\u001b[0m\u001b[0;36m2\u001b[0m\u001b[0;34m]\u001b[0m\u001b[0;34m)\u001b[0m\u001b[0;34m\u001b[0m\u001b[0;34m\u001b[0m\u001b[0m\n",
            "\u001b[0;32m<ipython-input-75-715149dcdd1d>\u001b[0m in \u001b[0;36msimulate_and_update\u001b[0;34m(players, brain)\u001b[0m\n\u001b[1;32m     35\u001b[0m     \u001b[0ml1\u001b[0m \u001b[0;34m=\u001b[0m \u001b[0mplayers\u001b[0m\u001b[0;34m[\u001b[0m\u001b[0;36m1\u001b[0m\u001b[0;34m]\u001b[0m \u001b[0;34m-\u001b[0m \u001b[0mplayers\u001b[0m\u001b[0;34m[\u001b[0m\u001b[0;36m3\u001b[0m\u001b[0;34m]\u001b[0m \u001b[0;34m*\u001b[0m \u001b[0mtimedelta\u001b[0m\u001b[0;34m\u001b[0m\u001b[0;34m\u001b[0m\u001b[0m\n\u001b[1;32m     36\u001b[0m     \u001b[0ml7\u001b[0m \u001b[0;34m=\u001b[0m \u001b[0mplayers\u001b[0m\u001b[0;34m[\u001b[0m\u001b[0;36m7\u001b[0m\u001b[0;34m]\u001b[0m \u001b[0;34m+\u001b[0m \u001b[0mtimedelta\u001b[0m\u001b[0;34m\u001b[0m\u001b[0;34m\u001b[0m\u001b[0m\n\u001b[0;32m---> 37\u001b[0;31m     \u001b[0ml4\u001b[0m \u001b[0;34m=\u001b[0m \u001b[0mbrain\u001b[0m\u001b[0;34m.\u001b[0m\u001b[0mpredict_on_batch\u001b[0m\u001b[0;34m(\u001b[0m\u001b[0mtf\u001b[0m\u001b[0;34m.\u001b[0m\u001b[0mtranspose\u001b[0m\u001b[0;34m(\u001b[0m\u001b[0mbatch_remap\u001b[0m\u001b[0;34m(\u001b[0m\u001b[0mplayers\u001b[0m\u001b[0;34m)\u001b[0m\u001b[0;34m)\u001b[0m\u001b[0;34m)\u001b[0m\u001b[0;34m\u001b[0m\u001b[0;34m\u001b[0m\u001b[0m\n\u001b[0m\u001b[1;32m     38\u001b[0m     \u001b[0;32mreturn\u001b[0m \u001b[0mtf\u001b[0m\u001b[0;34m.\u001b[0m\u001b[0mstack\u001b[0m\u001b[0;34m(\u001b[0m\u001b[0;34m[\u001b[0m\u001b[0ml0\u001b[0m\u001b[0;34m,\u001b[0m \u001b[0ml1\u001b[0m\u001b[0;34m,\u001b[0m \u001b[0ml2\u001b[0m\u001b[0;34m,\u001b[0m \u001b[0ml3\u001b[0m\u001b[0;34m,\u001b[0m \u001b[0ml4\u001b[0m\u001b[0;34m[\u001b[0m\u001b[0;34m:\u001b[0m\u001b[0;34m,\u001b[0m\u001b[0;36m0\u001b[0m\u001b[0;34m]\u001b[0m\u001b[0;34m,\u001b[0m \u001b[0mplayers\u001b[0m\u001b[0;34m[\u001b[0m\u001b[0;36m5\u001b[0m\u001b[0;34m]\u001b[0m\u001b[0;34m,\u001b[0m \u001b[0mplayers\u001b[0m\u001b[0;34m[\u001b[0m\u001b[0;36m6\u001b[0m\u001b[0;34m]\u001b[0m\u001b[0;34m,\u001b[0m \u001b[0ml7\u001b[0m\u001b[0;34m,\u001b[0m \u001b[0mplayers\u001b[0m\u001b[0;34m[\u001b[0m\u001b[0;36m8\u001b[0m\u001b[0;34m]\u001b[0m\u001b[0;34m,\u001b[0m \u001b[0mplayers\u001b[0m\u001b[0;34m[\u001b[0m\u001b[0;36m9\u001b[0m\u001b[0;34m]\u001b[0m\u001b[0;34m]\u001b[0m\u001b[0;34m)\u001b[0m\u001b[0;34m\u001b[0m\u001b[0;34m\u001b[0m\u001b[0m\n\u001b[1;32m     39\u001b[0m \u001b[0;34m\u001b[0m\u001b[0m\n",
            "\u001b[0;32m/usr/local/lib/python3.6/dist-packages/tensorflow/python/keras/engine/training.py\u001b[0m in \u001b[0;36mpredict_on_batch\u001b[0;34m(self, x)\u001b[0m\n\u001b[1;32m   1292\u001b[0m \u001b[0;34m\u001b[0m\u001b[0m\n\u001b[1;32m   1293\u001b[0m     \u001b[0mself\u001b[0m\u001b[0;34m.\u001b[0m\u001b[0m_make_predict_function\u001b[0m\u001b[0;34m(\u001b[0m\u001b[0;34m)\u001b[0m\u001b[0;34m\u001b[0m\u001b[0;34m\u001b[0m\u001b[0m\n\u001b[0;32m-> 1294\u001b[0;31m     \u001b[0moutputs\u001b[0m \u001b[0;34m=\u001b[0m \u001b[0mself\u001b[0m\u001b[0;34m.\u001b[0m\u001b[0mpredict_function\u001b[0m\u001b[0;34m(\u001b[0m\u001b[0minputs\u001b[0m\u001b[0;34m)\u001b[0m\u001b[0;34m\u001b[0m\u001b[0;34m\u001b[0m\u001b[0m\n\u001b[0m\u001b[1;32m   1295\u001b[0m \u001b[0;34m\u001b[0m\u001b[0m\n\u001b[1;32m   1296\u001b[0m     \u001b[0;32mif\u001b[0m \u001b[0mlen\u001b[0m\u001b[0;34m(\u001b[0m\u001b[0moutputs\u001b[0m\u001b[0;34m)\u001b[0m \u001b[0;34m==\u001b[0m \u001b[0;36m1\u001b[0m\u001b[0;34m:\u001b[0m\u001b[0;34m\u001b[0m\u001b[0;34m\u001b[0m\u001b[0m\n",
            "\u001b[0;32m/usr/local/lib/python3.6/dist-packages/tensorflow/python/keras/backend.py\u001b[0m in \u001b[0;36m__call__\u001b[0;34m(self, inputs)\u001b[0m\n\u001b[1;32m   3290\u001b[0m \u001b[0;34m\u001b[0m\u001b[0m\n\u001b[1;32m   3291\u001b[0m     fetched = self._callable_fn(*array_vals,\n\u001b[0;32m-> 3292\u001b[0;31m                                 run_metadata=self.run_metadata)\n\u001b[0m\u001b[1;32m   3293\u001b[0m     \u001b[0mself\u001b[0m\u001b[0;34m.\u001b[0m\u001b[0m_call_fetch_callbacks\u001b[0m\u001b[0;34m(\u001b[0m\u001b[0mfetched\u001b[0m\u001b[0;34m[\u001b[0m\u001b[0;34m-\u001b[0m\u001b[0mlen\u001b[0m\u001b[0;34m(\u001b[0m\u001b[0mself\u001b[0m\u001b[0;34m.\u001b[0m\u001b[0m_fetches\u001b[0m\u001b[0;34m)\u001b[0m\u001b[0;34m:\u001b[0m\u001b[0;34m]\u001b[0m\u001b[0;34m)\u001b[0m\u001b[0;34m\u001b[0m\u001b[0;34m\u001b[0m\u001b[0m\n\u001b[1;32m   3294\u001b[0m     output_structure = nest.pack_sequence_as(\n",
            "\u001b[0;32m/usr/local/lib/python3.6/dist-packages/tensorflow/python/client/session.py\u001b[0m in \u001b[0;36m__call__\u001b[0;34m(self, *args, **kwargs)\u001b[0m\n\u001b[1;32m   1456\u001b[0m         ret = tf_session.TF_SessionRunCallable(self._session._session,\n\u001b[1;32m   1457\u001b[0m                                                \u001b[0mself\u001b[0m\u001b[0;34m.\u001b[0m\u001b[0m_handle\u001b[0m\u001b[0;34m,\u001b[0m \u001b[0margs\u001b[0m\u001b[0;34m,\u001b[0m\u001b[0;34m\u001b[0m\u001b[0;34m\u001b[0m\u001b[0m\n\u001b[0;32m-> 1458\u001b[0;31m                                                run_metadata_ptr)\n\u001b[0m\u001b[1;32m   1459\u001b[0m         \u001b[0;32mif\u001b[0m \u001b[0mrun_metadata\u001b[0m\u001b[0;34m:\u001b[0m\u001b[0;34m\u001b[0m\u001b[0;34m\u001b[0m\u001b[0m\n\u001b[1;32m   1460\u001b[0m           \u001b[0mproto_data\u001b[0m \u001b[0;34m=\u001b[0m \u001b[0mtf_session\u001b[0m\u001b[0;34m.\u001b[0m\u001b[0mTF_GetBuffer\u001b[0m\u001b[0;34m(\u001b[0m\u001b[0mrun_metadata_ptr\u001b[0m\u001b[0;34m)\u001b[0m\u001b[0;34m\u001b[0m\u001b[0;34m\u001b[0m\u001b[0m\n",
            "\u001b[0;31mFailedPreconditionError\u001b[0m: Error while reading resource variable dense_7/kernel from Container: localhost. This could mean that the variable was uninitialized. Not found: Container localhost does not exist. (Could not find resource: localhost/dense_7/kernel)\n\t [[{{node dense_7/MatMul/ReadVariableOp}}]]"
          ]
        }
      ]
    },
    {
      "cell_type": "code",
      "metadata": {
        "id": "ap2-oZ7XR4vR",
        "colab_type": "code",
        "colab": {}
      },
      "source": [
        ""
      ],
      "execution_count": 0,
      "outputs": []
    }
  ]
}